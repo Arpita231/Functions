{
  "nbformat": 4,
  "nbformat_minor": 0,
  "metadata": {
    "colab": {
      "provenance": []
    },
    "kernelspec": {
      "name": "python3",
      "display_name": "Python 3"
    },
    "language_info": {
      "name": "python"
    }
  },
  "cells": [
    {
      "cell_type": "markdown",
      "source": [],
      "metadata": {
        "id": "bE38XwTeK05k"
      }
    },
    {
      "cell_type": "markdown",
      "source": [
        "1. What is the difference between a function and a method in Python?\n",
        "Ans: A function is a block of reusable code defined using def or lambda that is not tied to a specific object.\n",
        "A method is a function that belongs to an object (usually defined inside a class). It automatically takes the object (self) as its first argument.\n",
        "\n",
        "\n",
        "2. Explain the concept of function arguments and parameters in Python?\n",
        "Ans:Parameters are variables defined in a function's definition.\n",
        "Arguments are the actual values passed to the function when calling it.\n",
        "\n",
        "3. What are the different ways to define and call a function in Python?\n",
        "Ans: To define we use:\n",
        "Def:\n",
        "def add(x, y):\n",
        "    return x + y\n",
        "To call:\n",
        "result = add(3, 5)\n",
        "print(result)\n",
        "\n",
        "4. What is the purpose of the `return` statement in a Python function?\n",
        "Ans: The return statement is used to:\n",
        "Exit the function.\n",
        "Send a value back to the caller.\n",
        "Without return, the function returns None by default.\n",
        "\n",
        "5. What are iterators in Python and how do they differ from iterables?\n",
        "Ans: Iterable: An object you can loop over (e.g., list, tuple, string).\n",
        "Iterator: An object with a __next__() method that returns items one by one.\n",
        "The difference is:\n",
        "All iterators are iterables, but not all iterables are iterators.\n",
        "You can get an iterator from an iterable using iter().\n",
        "\n",
        "6. Explain the concept of generators in Python and how they are defined?\n",
        "Ans: A generator is a special type of iterator created with a function that uses the yield keyword.\n",
        "It generates values one at a time, suspending and resuming state between calls.\n",
        "\n",
        "7. What are the advantages of using generators over regular functions?\n",
        "Ans:Memory-efficient: They don't store all values in memory.\n",
        "Lazy evaluation: Values are generated on demand.\n",
        "Convenient: Cleaner syntax for writing iterators.\n",
        "\n",
        "8. What is a lambda function in Python and when is it typically used?\n",
        "Ans: A lambda function is a short, anonymous function written using the lambda keyword.\n",
        "Typically used for short, throwaway functions, especially as arguments to functions like map(), filter(), or sorted().\n",
        "\n",
        "9. Explain the purpose and usage of the `map()` function in Python?\n",
        "Ans: map() applies a function to each item of an iterable and returns a map object (iterator).\n",
        "\n",
        "10. What is the difference between `map()`, `reduce()`, and `filter()` functions in Python?\n",
        "Ans: map():Transforms each item using a function\n",
        "filter():Filters items based on a condition\n",
        "reduce():Combines items to a single value\n",
        "\n",
        "\n"
      ],
      "metadata": {
        "id": "XKqwBE1aK1ng"
      }
    },
    {
      "cell_type": "code",
      "execution_count": 8,
      "metadata": {
        "colab": {
          "base_uri": "https://localhost:8080/"
        },
        "id": "SSG6EfelKx89",
        "outputId": "38231477-d29f-4280-8430-0b3d08a24db4"
      },
      "outputs": [
        {
          "output_type": "stream",
          "name": "stdout",
          "text": [
            "12\n"
          ]
        }
      ],
      "source": [
        "# 1. Write a Python function that takes a list of numbers as input and returns the sum of all even numbers in the list.\n",
        "def sum_even_numbers(numbers):\n",
        "    return sum(num for num in numbers if num % 2 == 0)\n",
        "print(sum_even_numbers([1, 2, 3, 4, 5, 6]))"
      ]
    },
    {
      "cell_type": "code",
      "source": [
        "#2. Create a Python function that accepts a string and returns the reverse of that string.\n",
        "def reverse_string(s):\n",
        "    return s[::-1]\n",
        "print(reverse_string(\"hello\"))"
      ],
      "metadata": {
        "colab": {
          "base_uri": "https://localhost:8080/"
        },
        "id": "5QwVMJ0NXf6w",
        "outputId": "7a7f991b-2f20-47b2-c0a4-be4a50651d96"
      },
      "execution_count": 9,
      "outputs": [
        {
          "output_type": "stream",
          "name": "stdout",
          "text": [
            "olleh\n"
          ]
        }
      ]
    },
    {
      "cell_type": "code",
      "source": [
        "# 3. Implement a Python function that takes a list of integers and returns a new list containing the squares of each number.\n",
        "def square_list(numbers):\n",
        "    return [x**2 for x in numbers]\n",
        "print(square_list([1, 2, 3]))\n"
      ],
      "metadata": {
        "colab": {
          "base_uri": "https://localhost:8080/"
        },
        "id": "Ul6DnwgNXuFD",
        "outputId": "0a914311-608c-4ecb-de4f-4049462acd9e"
      },
      "execution_count": 10,
      "outputs": [
        {
          "output_type": "stream",
          "name": "stdout",
          "text": [
            "[1, 4, 9]\n"
          ]
        }
      ]
    },
    {
      "cell_type": "code",
      "source": [
        "# 4. Write a Python function that checks if a given number is prime or not from 1 to 200\n",
        "def is_prime(n):\n",
        "    if n <= 1:\n",
        "        return False\n",
        "    for i in range(2, int(n**0.5)+1):\n",
        "        if n % i == 0:\n",
        "            return False\n",
        "    return True\n",
        "primes = [x for x in range(1, 201) if is_prime(x)]\n",
        "print(primes)\n"
      ],
      "metadata": {
        "colab": {
          "base_uri": "https://localhost:8080/"
        },
        "id": "MnIbGOKDX8kP",
        "outputId": "55a44a87-7d84-4649-f311-dcaf44c54002"
      },
      "execution_count": 11,
      "outputs": [
        {
          "output_type": "stream",
          "name": "stdout",
          "text": [
            "[2, 3, 5, 7, 11, 13, 17, 19, 23, 29, 31, 37, 41, 43, 47, 53, 59, 61, 67, 71, 73, 79, 83, 89, 97, 101, 103, 107, 109, 113, 127, 131, 137, 139, 149, 151, 157, 163, 167, 173, 179, 181, 191, 193, 197, 199]\n"
          ]
        }
      ]
    },
    {
      "cell_type": "code",
      "source": [
        "#5. Create an iterator class in Python that generates the Fibonacci sequence up to a specified number of terms\n",
        "class Fibonacci:\n",
        "    def __init__(self, n):\n",
        "        self.n = n\n",
        "        self.a, self.b = 0, 1\n",
        "        self.count = 0\n",
        "\n",
        "    def __iter__(self):\n",
        "        return self\n",
        "\n",
        "    def __next__(self):\n",
        "        if self.count >= self.n:\n",
        "            raise StopIteration\n",
        "        val = self.a\n",
        "        self.a, self.b = self.b, self.a + self.b\n",
        "        self.count += 1\n",
        "        return val\n",
        "for num in Fibonacci(10):\n",
        "    print(num, end=' ')\n"
      ],
      "metadata": {
        "colab": {
          "base_uri": "https://localhost:8080/"
        },
        "id": "fFavkQseYHQ5",
        "outputId": "ae0b7f05-6ff3-4518-a18f-92ec9236447f"
      },
      "execution_count": 12,
      "outputs": [
        {
          "output_type": "stream",
          "name": "stdout",
          "text": [
            "0 1 1 2 3 5 8 13 21 34 "
          ]
        }
      ]
    },
    {
      "cell_type": "code",
      "source": [
        "# 6. Write a generator function in Python that yields the powers of 2 up to a given exponent.\n",
        "def powers_of_two(n):\n",
        "    for i in range(n + 1):\n",
        "        yield 2 ** i\n",
        "for val in powers_of_two(5):\n",
        "    print(val)\n"
      ],
      "metadata": {
        "colab": {
          "base_uri": "https://localhost:8080/"
        },
        "id": "qFigeUtaYZzv",
        "outputId": "2f3c4d05-475a-4ed6-ec05-97cb57fe99a1"
      },
      "execution_count": 13,
      "outputs": [
        {
          "output_type": "stream",
          "name": "stdout",
          "text": [
            "1\n",
            "2\n",
            "4\n",
            "8\n",
            "16\n",
            "32\n"
          ]
        }
      ]
    },
    {
      "cell_type": "code",
      "source": [
        "#8. Use a lambda function in Python to sort a list of tuples based on the second element of each tuple\n",
        "tuples = [(1, 3), (4, 1), (2, 2)]\n",
        "sorted_tuples = sorted(tuples, key=lambda x: x[1])\n",
        "print(sorted_tuples)\n"
      ],
      "metadata": {
        "colab": {
          "base_uri": "https://localhost:8080/"
        },
        "id": "asZWDcu3Ys0g",
        "outputId": "cae70d87-f020-4065-b45c-2d2c8e50c763"
      },
      "execution_count": 17,
      "outputs": [
        {
          "output_type": "stream",
          "name": "stdout",
          "text": [
            "[(4, 1), (2, 2), (1, 3)]\n"
          ]
        }
      ]
    },
    {
      "cell_type": "code",
      "source": [
        "# 9. Write a Python program that uses `map()` to convert a list of temperatures from Celsius to Fahrenheit.\n",
        "celsius = [0, 20, 30, 100]\n",
        "fahrenheit = list(map(lambda c: (c * 9/5) + 32, celsius))\n",
        "print(fahrenheit)\n"
      ],
      "metadata": {
        "colab": {
          "base_uri": "https://localhost:8080/"
        },
        "id": "n9XZD1WzZcRN",
        "outputId": "5a5c090f-1f22-416f-f031-7359d0d77b43"
      },
      "execution_count": 18,
      "outputs": [
        {
          "output_type": "stream",
          "name": "stdout",
          "text": [
            "[32.0, 68.0, 86.0, 212.0]\n"
          ]
        }
      ]
    },
    {
      "cell_type": "code",
      "source": [
        "# 10. Create a Python program that uses `filter()` to remove all the vowels from a given string\n",
        "def remove_vowels(s):\n",
        "    vowels = \"aeiouAEIOU\"\n",
        "    return ''.join(filter(lambda x: x not in vowels, s))\n",
        "print(remove_vowels(\"Hello World\"))\n"
      ],
      "metadata": {
        "colab": {
          "base_uri": "https://localhost:8080/"
        },
        "id": "sh8HCYCFZlx2",
        "outputId": "da3ea7f6-e0d6-40f4-8335-1b68c07965f5"
      },
      "execution_count": 19,
      "outputs": [
        {
          "output_type": "stream",
          "name": "stdout",
          "text": [
            "Hll Wrld\n"
          ]
        }
      ]
    }
  ]
}